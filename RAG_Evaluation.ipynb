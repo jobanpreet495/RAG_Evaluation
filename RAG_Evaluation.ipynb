{
 "cells": [
  {
   "cell_type": "markdown",
   "id": "430a9f7b",
   "metadata": {},
   "source": [
    "# Retrieval  Augmented Generation (RAG)\n",
    "\n",
    "### What problem it solves ?\n",
    "* Limited knowledge in LLM.\n",
    "* Context  window problem (fixed number of tokens sent to the LLM)\n",
    "* Hallucinations in LLM .\n",
    "\n",
    "While  evaluating RAG , we  need to separately evaluate Retriever component and Generator Component .\n",
    "We need Two things :\n",
    "* Evaluation metric\n",
    "* Evaluation Dataset\n",
    "\n",
    "\n",
    "So ,  I will be using RAGAs  (Retrieval-Augmented Generation Assessment)  framework for evaluation .\n",
    "\n",
    "\n",
    "\n",
    "###### Retrieval Component\n",
    "* Context precision - It measures the signal-to-noise ratio of the retrieved context. This metric is computed using the question and the contexts\n",
    "* Context Recall - This metric states that if all the relevant information required to answer the question was retrieved. This metric is computed based on the ground_truth .\n",
    "\n",
    "###### Generator Component\n",
    "* Faithfulness - It measures the factual accuracy of the generated answer.The number of correct statements from the given contexts is divided by the total number of statements in the generated answer. This metric uses the question, contextsand the answer.\n",
    "* Answer relevancy - It measures how relevant the generated answer is to the question. This metric is computed using the question and the answer. For example, the answer “France is in western Europe.” to the question “Where is France and what is it’s capital?” would achieve a low answer relevancy because it only answers half of the question.\n",
    "\n",
    "\n",
    "All metrics are scaled to the range [0, 1], with higher values indicating a better performance.\n"
   ]
  },
  {
   "cell_type": "code",
   "execution_count": 23,
   "id": "7d42ed63-91f6-408c-aaff-caa8d2f7c7c2",
   "metadata": {},
   "outputs": [],
   "source": [
    "import os\n",
    "os.environ['OPENAI_API_KEY'] = \"\""
   ]
  },
  {
   "cell_type": "code",
   "execution_count": 4,
   "id": "187ce7e2",
   "metadata": {},
   "outputs": [],
   "source": [
    "from llama_index.core import VectorStoreIndex, SimpleDirectoryReader\n",
    "\n",
    "documents = SimpleDirectoryReader(\"./data2\").load_data()\n",
    "vector_index = VectorStoreIndex.from_documents(documents)\n",
    "query_engine = vector_index.as_query_engine(similarity_top_k=2)"
   ]
  },
  {
   "cell_type": "code",
   "execution_count": 5,
   "id": "17070198",
   "metadata": {},
   "outputs": [],
   "source": [
    "questions = [\n",
    "    \"What is Artificial Intelligence (AI)?\",\n",
    "    \"What are the three types of AI based on capabilities?\",\n",
    "    \"What are the key challenges of AI?\"\n",
    "]\n",
    "\n",
    "ground_truths = [\n",
    "    \"AI is the branch of computer science that enables systems to perform tasks requiring human intelligence, such as problem-solving, reasoning, and learning.\",\n",
    "    \"The three types are Narrow AI (designed for specific tasks), General AI (human-like intelligence), and Superintelligent AI (surpassing human intelligence).\",\n",
    "    \"Key challenges include bias in data, privacy concerns, job displacement, maintaining human control, and high energy consumption.\"\n",
    "]"
   ]
  },
  {
   "cell_type": "code",
   "execution_count": null,
   "id": "eb385e43",
   "metadata": {},
   "outputs": [],
   "source": []
  },
  {
   "cell_type": "code",
   "execution_count": 11,
   "id": "5b5e60c1",
   "metadata": {},
   "outputs": [],
   "source": [
    "\n",
    "from datasets import Dataset\n",
    "\n",
    "answers = []\n",
    "contexts = []\n",
    "for q in questions:\n",
    "    response = query_engine.query(q)\n",
    "    answers.append(response.response)\n",
    "    contexts.append([sn.get_content() for sn in response.source_nodes])\n",
    "data = {\n",
    "    \"question\": questions,\n",
    "    \"contexts\": contexts,\n",
    "    \"answer\": answers,\n",
    "    \"ground_truth\": ground_truths,\n",
    "}\n",
    "dataset = Dataset.from_dict(data)\n"
   ]
  },
  {
   "cell_type": "code",
   "execution_count": 12,
   "id": "a10a2519-068f-43a5-a3c0-678c38bc9693",
   "metadata": {},
   "outputs": [
    {
     "data": {
      "text/plain": [
       "Dataset({\n",
       "    features: ['question', 'contexts', 'answer', 'ground_truth'],\n",
       "    num_rows: 3\n",
       "})"
      ]
     },
     "execution_count": 12,
     "metadata": {},
     "output_type": "execute_result"
    }
   ],
   "source": [
    "dataset"
   ]
  },
  {
   "cell_type": "code",
   "execution_count": 21,
   "id": "7c8bf371-e095-45b9-9e40-37c7c0db73ef",
   "metadata": {},
   "outputs": [
    {
     "data": {
      "application/vnd.jupyter.widget-view+json": {
       "model_id": "2529653bb22d40fbb91307d6450a27c9",
       "version_major": 2,
       "version_minor": 0
      },
      "text/plain": [
       "Evaluating:   0%|          | 0/12 [00:00<?, ?it/s]"
      ]
     },
     "metadata": {},
     "output_type": "display_data"
    }
   ],
   "source": [
    "from ragas import evaluate\n",
    "from ragas.metrics import (\n",
    " faithfulness,\n",
    " answer_relevancy,\n",
    " context_recall,\n",
    " context_precision,\n",
    ")\n",
    "result = evaluate(\n",
    " dataset = dataset, \n",
    " metrics=[\n",
    " context_precision,\n",
    " context_recall,\n",
    " faithfulness,\n",
    " answer_relevancy,\n",
    " ],\n",
    ")\n",
    "df = result.to_pandas()"
   ]
  },
  {
   "cell_type": "code",
   "execution_count": 22,
   "id": "21a425d2",
   "metadata": {},
   "outputs": [
    {
     "data": {
      "text/html": [
       "<div>\n",
       "<style scoped>\n",
       "    .dataframe tbody tr th:only-of-type {\n",
       "        vertical-align: middle;\n",
       "    }\n",
       "\n",
       "    .dataframe tbody tr th {\n",
       "        vertical-align: top;\n",
       "    }\n",
       "\n",
       "    .dataframe thead th {\n",
       "        text-align: right;\n",
       "    }\n",
       "</style>\n",
       "<table border=\"1\" class=\"dataframe\">\n",
       "  <thead>\n",
       "    <tr style=\"text-align: right;\">\n",
       "      <th></th>\n",
       "      <th>user_input</th>\n",
       "      <th>retrieved_contexts</th>\n",
       "      <th>response</th>\n",
       "      <th>reference</th>\n",
       "      <th>context_precision</th>\n",
       "      <th>context_recall</th>\n",
       "      <th>faithfulness</th>\n",
       "      <th>answer_relevancy</th>\n",
       "    </tr>\n",
       "  </thead>\n",
       "  <tbody>\n",
       "    <tr>\n",
       "      <th>0</th>\n",
       "      <td>What is Artificial Intelligence (AI)?</td>\n",
       "      <td>[Artificial Intelligence (AI) is a branch of c...</td>\n",
       "      <td>Artificial Intelligence (AI) is a branch of co...</td>\n",
       "      <td>AI is the branch of computer science that enab...</td>\n",
       "      <td>1.0</td>\n",
       "      <td>1.0</td>\n",
       "      <td>1.0</td>\n",
       "      <td>0.934482</td>\n",
       "    </tr>\n",
       "    <tr>\n",
       "      <th>1</th>\n",
       "      <td>What are the three types of AI based on capabi...</td>\n",
       "      <td>[Artificial Intelligence (AI) is a branch of c...</td>\n",
       "      <td>The three types of AI based on capabilities ar...</td>\n",
       "      <td>The three types are Narrow AI (designed for sp...</td>\n",
       "      <td>1.0</td>\n",
       "      <td>1.0</td>\n",
       "      <td>1.0</td>\n",
       "      <td>1.000000</td>\n",
       "    </tr>\n",
       "    <tr>\n",
       "      <th>2</th>\n",
       "      <td>What are the key challenges of AI?</td>\n",
       "      <td>[Artificial Intelligence (AI) is a branch of c...</td>\n",
       "      <td>The key challenges of AI include bias and fair...</td>\n",
       "      <td>Key challenges include bias in data, privacy c...</td>\n",
       "      <td>1.0</td>\n",
       "      <td>1.0</td>\n",
       "      <td>1.0</td>\n",
       "      <td>1.000000</td>\n",
       "    </tr>\n",
       "  </tbody>\n",
       "</table>\n",
       "</div>"
      ],
      "text/plain": [
       "                                          user_input  \\\n",
       "0              What is Artificial Intelligence (AI)?   \n",
       "1  What are the three types of AI based on capabi...   \n",
       "2                 What are the key challenges of AI?   \n",
       "\n",
       "                                  retrieved_contexts  \\\n",
       "0  [Artificial Intelligence (AI) is a branch of c...   \n",
       "1  [Artificial Intelligence (AI) is a branch of c...   \n",
       "2  [Artificial Intelligence (AI) is a branch of c...   \n",
       "\n",
       "                                            response  \\\n",
       "0  Artificial Intelligence (AI) is a branch of co...   \n",
       "1  The three types of AI based on capabilities ar...   \n",
       "2  The key challenges of AI include bias and fair...   \n",
       "\n",
       "                                           reference  context_precision  \\\n",
       "0  AI is the branch of computer science that enab...                1.0   \n",
       "1  The three types are Narrow AI (designed for sp...                1.0   \n",
       "2  Key challenges include bias in data, privacy c...                1.0   \n",
       "\n",
       "   context_recall  faithfulness  answer_relevancy  \n",
       "0             1.0           1.0          0.934482  \n",
       "1             1.0           1.0          1.000000  \n",
       "2             1.0           1.0          1.000000  "
      ]
     },
     "execution_count": 22,
     "metadata": {},
     "output_type": "execute_result"
    }
   ],
   "source": [
    "df"
   ]
  },
  {
   "cell_type": "code",
   "execution_count": null,
   "id": "f87fb456",
   "metadata": {},
   "outputs": [],
   "source": []
  }
 ],
 "metadata": {
  "kernelspec": {
   "display_name": "Python 3 (ipykernel)",
   "language": "python",
   "name": "python3"
  },
  "language_info": {
   "codemirror_mode": {
    "name": "ipython",
    "version": 3
   },
   "file_extension": ".py",
   "mimetype": "text/x-python",
   "name": "python",
   "nbconvert_exporter": "python",
   "pygments_lexer": "ipython3",
   "version": "3.9.12"
  }
 },
 "nbformat": 4,
 "nbformat_minor": 5
}
