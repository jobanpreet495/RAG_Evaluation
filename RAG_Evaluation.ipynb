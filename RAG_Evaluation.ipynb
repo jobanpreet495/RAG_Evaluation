{
 "cells": [
  {
   "cell_type": "markdown",
   "id": "477037c6-b0dc-4930-9b29-ab42c06fa70a",
   "metadata": {},
   "source": [
    "# Retrieval  Augmented Generation (RAG)\n",
    "\n",
    "### What problem it solves:\n",
    "* Knowledge limitation in LLM .\n",
    "* LLM context window problem .\n",
    "* LLM Halluciation .\n",
    "\n",
    "\n",
    "* In RAG  , additional context from the data sent to the LLM along with user query to get relevant response .\n",
    "* Retriever component   -  Retrieves the context from an external database for the LLM .\n",
    "* Generator component -  Generate answer based on the user query + retrieved context .\n",
    "* Both these components needs to be evaluated separately in order to get performance of RAG system .\n",
    "\n"
   ]
  },
  {
   "cell_type": "code",
   "execution_count": null,
   "id": "7bd83a70-b1c7-48cb-a2ab-8fd6bb69a9b2",
   "metadata": {},
   "outputs": [],
   "source": []
  }
 ],
 "metadata": {
  "kernelspec": {
   "display_name": "Python 3 (ipykernel)",
   "language": "python",
   "name": "python3"
  },
  "language_info": {
   "codemirror_mode": {
    "name": "ipython",
    "version": 3
   },
   "file_extension": ".py",
   "mimetype": "text/x-python",
   "name": "python",
   "nbconvert_exporter": "python",
   "pygments_lexer": "ipython3",
   "version": "3.10.0"
  }
 },
 "nbformat": 4,
 "nbformat_minor": 5
}
